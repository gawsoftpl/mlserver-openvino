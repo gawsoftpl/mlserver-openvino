{
 "cells": [
  {
   "cell_type": "code",
   "execution_count": 1,
   "id": "e71d8bac-2697-411e-a6b0-34e399be18d1",
   "metadata": {},
   "outputs": [
    {
     "name": "stderr",
     "output_type": "stream",
     "text": [
      "2022-06-14 13:19:18.307440: W tensorflow/stream_executor/platform/default/dso_loader.cc:64] Could not load dynamic library 'libcudart.so.11.0'; dlerror: libcudart.so.11.0: cannot open shared object file: No such file or directory\n",
      "2022-06-14 13:19:18.307461: I tensorflow/stream_executor/cuda/cudart_stub.cc:29] Ignore above cudart dlerror if you do not have a GPU set up on your machine.\n"
     ]
    }
   ],
   "source": [
    "import numpy as np\n",
    "from tensorflow import keras\n",
    "from tensorflow.keras import layers"
   ]
  },
  {
   "cell_type": "code",
   "execution_count": 9,
   "id": "b0f7674a-dd05-4b11-9850-c00b4af0ef75",
   "metadata": {},
   "outputs": [
    {
     "name": "stdout",
     "output_type": "stream",
     "text": [
      "x_train shape: (60000, 28, 28, 1)\n",
      "60000 train samples\n",
      "10000 test samples\n"
     ]
    }
   ],
   "source": [
    "# Model / data parameters\n",
    "num_classes = 10\n",
    "input_shape = (28, 28, 1, )\n",
    "\n",
    "# the data, split between train and test sets\n",
    "(x_train, y_train), (x_test, y_test) = keras.datasets.mnist.load_data()\n",
    "\n",
    "# Scale images to the [0, 1] range\n",
    "x_train = x_train.astype(\"float32\") / 255\n",
    "x_test = x_test.astype(\"float32\") / 255\n",
    "# Make sure images have shape (28, 28, 1)\n",
    "x_train = np.expand_dims(x_train, -1)\n",
    "x_test = np.expand_dims(x_test, -1)\n",
    "print(\"x_train shape:\", x_train.shape)\n",
    "print(x_train.shape[0], \"train samples\")\n",
    "print(x_test.shape[0], \"test samples\")"
   ]
  },
  {
   "cell_type": "code",
   "execution_count": 19,
   "id": "b425c648-d32b-4cae-a7bb-0eb67bf2402f",
   "metadata": {},
   "outputs": [
    {
     "name": "stdout",
     "output_type": "stream",
     "text": [
      "Model: \"sequential_3\"\n",
      "_________________________________________________________________\n",
      " Layer (type)                Output Shape              Param #   \n",
      "=================================================================\n",
      " conv2d_6 (Conv2D)           (None, 26, 26, 32)        320       \n",
      "                                                                 \n",
      " max_pooling2d_6 (MaxPooling  (None, 13, 13, 32)       0         \n",
      " 2D)                                                             \n",
      "                                                                 \n",
      " conv2d_7 (Conv2D)           (None, 11, 11, 64)        18496     \n",
      "                                                                 \n",
      " max_pooling2d_7 (MaxPooling  (None, 5, 5, 64)         0         \n",
      " 2D)                                                             \n",
      "                                                                 \n",
      " flatten_3 (Flatten)         (None, 1600)              0         \n",
      "                                                                 \n",
      " dropout_3 (Dropout)         (None, 1600)              0         \n",
      "                                                                 \n",
      " output (Dense)              (None, 10)                16010     \n",
      "                                                                 \n",
      "=================================================================\n",
      "Total params: 34,826\n",
      "Trainable params: 34,826\n",
      "Non-trainable params: 0\n",
      "_________________________________________________________________\n"
     ]
    }
   ],
   "source": [
    "model = keras.Sequential(\n",
    "    [\n",
    "        keras.Input(shape=input_shape, name=\"input-0\"),\n",
    "        layers.Conv2D(32, kernel_size=(3, 3), activation=\"relu\"),\n",
    "        layers.MaxPooling2D(pool_size=(2, 2)),\n",
    "        layers.Conv2D(64, kernel_size=(3, 3), activation=\"relu\"),\n",
    "        layers.MaxPooling2D(pool_size=(2, 2)),\n",
    "        layers.Flatten(),\n",
    "        layers.Dropout(0.5),\n",
    "        layers.Dense(num_classes, activation=\"softmax\", name=\"output\"),\n",
    "    ]\n",
    ")\n",
    "\n",
    "model.summary()"
   ]
  },
  {
   "cell_type": "code",
   "execution_count": 20,
   "id": "90b53f8a-c2c1-49f0-a99a-a2e2cc6d6bc2",
   "metadata": {},
   "outputs": [
    {
     "name": "stdout",
     "output_type": "stream",
     "text": [
      "Epoch 1/3\n",
      "422/422 [==============================] - 14s 32ms/step - loss: 0.3573 - accuracy: 0.8909 - val_loss: 0.0811 - val_accuracy: 0.9778\n",
      "Epoch 2/3\n",
      "422/422 [==============================] - 13s 31ms/step - loss: 0.1089 - accuracy: 0.9666 - val_loss: 0.0558 - val_accuracy: 0.9843\n",
      "Epoch 3/3\n",
      "422/422 [==============================] - 14s 32ms/step - loss: 0.0821 - accuracy: 0.9749 - val_loss: 0.0458 - val_accuracy: 0.9870\n"
     ]
    },
    {
     "data": {
      "text/plain": [
       "<keras.callbacks.History at 0x7f72d00749a0>"
      ]
     },
     "execution_count": 20,
     "metadata": {},
     "output_type": "execute_result"
    }
   ],
   "source": [
    "batch_size = 128\n",
    "epochs = 3\n",
    "\n",
    "model.compile(loss=\"sparse_categorical_crossentropy\", optimizer=\"adam\", metrics=[\"accuracy\"])\n",
    "\n",
    "model.fit(x_train, y_train, batch_size=batch_size, epochs=epochs, validation_split=0.1)"
   ]
  },
  {
   "cell_type": "code",
   "execution_count": 21,
   "id": "f83fd94d-13d1-4ff5-938e-60497408779b",
   "metadata": {},
   "outputs": [
    {
     "name": "stdout",
     "output_type": "stream",
     "text": [
      "Test loss: 0.04586632922291756\n",
      "Test accuracy: 0.9847000241279602\n"
     ]
    }
   ],
   "source": [
    "score = model.evaluate(x_test, y_test, verbose=0)\n",
    "print(\"Test loss:\", score[0])\n",
    "print(\"Test accuracy:\", score[1])"
   ]
  },
  {
   "cell_type": "markdown",
   "id": "76de8d49-77cf-463c-962f-a3ae2ccfa204",
   "metadata": {},
   "source": [
    "# Convert model to Onnx"
   ]
  },
  {
   "cell_type": "code",
   "execution_count": 16,
   "id": "104a3878-e08e-4a53-bded-1b31b3920688",
   "metadata": {},
   "outputs": [
    {
     "name": "stdout",
     "output_type": "stream",
     "text": [
      "Collecting tf2onnx\n",
      "  Downloading tf2onnx-1.11.1-py3-none-any.whl (440 kB)\n",
      "\u001b[2K     \u001b[90m━━━━━━━━━━━━━━━━━━━━━━━━━━━━━━━━━━━━━━━\u001b[0m \u001b[32m440.6/440.6 KB\u001b[0m \u001b[31m4.1 MB/s\u001b[0m eta \u001b[36m0:00:00\u001b[0ma \u001b[36m0:00:01\u001b[0m\n",
      "\u001b[?25hCollecting onnx\n",
      "  Downloading onnx-1.11.0-cp39-cp39-manylinux_2_12_x86_64.manylinux2010_x86_64.whl (12.8 MB)\n",
      "\u001b[2K     \u001b[90m━━━━━━━━━━━━━━━━━━━━━━━━━━━━━━━━━━━━━━━━\u001b[0m \u001b[32m12.8/12.8 MB\u001b[0m \u001b[31m65.8 MB/s\u001b[0m eta \u001b[36m0:00:00\u001b[0m00:01\u001b[0m00:01\u001b[0m\n",
      "\u001b[?25hCollecting onnxruntime\n",
      "  Downloading onnxruntime-1.11.1-cp39-cp39-manylinux_2_17_x86_64.manylinux2014_x86_64.whl (5.2 MB)\n",
      "\u001b[2K     \u001b[90m━━━━━━━━━━━━━━━━━━━━━━━━━━━━━━━━━━━━━━━━\u001b[0m \u001b[32m5.2/5.2 MB\u001b[0m \u001b[31m50.4 MB/s\u001b[0m eta \u001b[36m0:00:00\u001b[0ma \u001b[36m0:00:01\u001b[0mm\n",
      "\u001b[?25hRequirement already satisfied: requests in /opt/conda/lib/python3.9/site-packages (from tf2onnx) (2.27.1)\n",
      "Requirement already satisfied: numpy>=1.14.1 in /opt/conda/lib/python3.9/site-packages (from tf2onnx) (1.21.6)\n",
      "Requirement already satisfied: six in /opt/conda/lib/python3.9/site-packages (from tf2onnx) (1.16.0)\n",
      "Collecting flatbuffers~=1.12\n",
      "  Downloading flatbuffers-1.12-py2.py3-none-any.whl (15 kB)\n",
      "Requirement already satisfied: protobuf>=3.12.2 in /opt/conda/lib/python3.9/site-packages (from onnx) (3.19.4)\n",
      "Requirement already satisfied: typing-extensions>=3.6.2.1 in /opt/conda/lib/python3.9/site-packages (from onnx) (4.2.0)\n",
      "Requirement already satisfied: urllib3<1.27,>=1.21.1 in /opt/conda/lib/python3.9/site-packages (from requests->tf2onnx) (1.26.9)\n",
      "Requirement already satisfied: certifi>=2017.4.17 in /opt/conda/lib/python3.9/site-packages (from requests->tf2onnx) (2021.10.8)\n",
      "Requirement already satisfied: idna<4,>=2.5 in /opt/conda/lib/python3.9/site-packages (from requests->tf2onnx) (3.3)\n",
      "Requirement already satisfied: charset-normalizer~=2.0.0 in /opt/conda/lib/python3.9/site-packages (from requests->tf2onnx) (2.0.12)\n",
      "Installing collected packages: flatbuffers, onnxruntime, onnx, tf2onnx\n",
      "  Attempting uninstall: flatbuffers\n",
      "    Found existing installation: flatbuffers 2.0\n",
      "    Uninstalling flatbuffers-2.0:\n",
      "      Successfully uninstalled flatbuffers-2.0\n",
      "Successfully installed flatbuffers-1.12 onnx-1.11.0 onnxruntime-1.11.1 tf2onnx-1.11.1\n"
     ]
    }
   ],
   "source": [
    "!pip install tf2onnx onnx onnxruntime"
   ]
  },
  {
   "cell_type": "code",
   "execution_count": 22,
   "id": "10279891-a5cf-4fdf-9a4a-58725b489246",
   "metadata": {},
   "outputs": [
    {
     "name": "stderr",
     "output_type": "stream",
     "text": [
      "WARNING:absl:Function `_wrapped_model` contains input name(s) input-0 with unsupported characters which will be renamed to input_0 in the SavedModel.\n"
     ]
    },
    {
     "name": "stdout",
     "output_type": "stream",
     "text": [
      "INFO:tensorflow:Assets written to: /tmp/model/assets\n"
     ]
    },
    {
     "name": "stderr",
     "output_type": "stream",
     "text": [
      "INFO:tensorflow:Assets written to: /tmp/model/assets\n"
     ]
    },
    {
     "name": "stdout",
     "output_type": "stream",
     "text": [
      "2022-06-14 13:27:57.171272: W tensorflow/stream_executor/platform/default/dso_loader.cc:64] Could not load dynamic library 'libcudart.so.11.0'; dlerror: libcudart.so.11.0: cannot open shared object file: No such file or directory\n",
      "2022-06-14 13:27:57.171294: I tensorflow/stream_executor/cuda/cudart_stub.cc:29] Ignore above cudart dlerror if you do not have a GPU set up on your machine.\n",
      "/opt/conda/lib/python3.9/runpy.py:127: RuntimeWarning: 'tf2onnx.convert' found in sys.modules after import of package 'tf2onnx', but prior to execution of 'tf2onnx.convert'; this may result in unpredictable behaviour\n",
      "  warn(RuntimeWarning(msg))\n",
      "2022-06-14 13:27:59.020065: W tensorflow/stream_executor/platform/default/dso_loader.cc:64] Could not load dynamic library 'libcuda.so.1'; dlerror: libcuda.so.1: cannot open shared object file: No such file or directory\n",
      "2022-06-14 13:27:59.020103: W tensorflow/stream_executor/cuda/cuda_driver.cc:269] failed call to cuInit: UNKNOWN ERROR (303)\n",
      "2022-06-14 13:27:59.020134: I tensorflow/stream_executor/cuda/cuda_diagnostics.cc:156] kernel driver does not appear to be running on this host (54c8d3e6d6e0): /proc/driver/nvidia/version does not exist\n",
      "2022-06-14 13:27:59.020388: I tensorflow/core/platform/cpu_feature_guard.cc:151] This TensorFlow binary is optimized with oneAPI Deep Neural Network Library (oneDNN) to use the following CPU instructions in performance-critical operations:  AVX2 FMA\n",
      "To enable them in other operations, rebuild TensorFlow with the appropriate compiler flags.\n",
      "2022-06-14 13:27:59,021 - WARNING - '--tag' not specified for saved_model. Using --tag serve\n",
      "2022-06-14 13:27:59,291 - INFO - Signatures found in model: [serving_default].\n",
      "2022-06-14 13:27:59,292 - WARNING - '--signature_def' not specified, using first signature: serving_default\n",
      "2022-06-14 13:27:59,292 - INFO - Output names: ['output']\n",
      "2022-06-14 13:27:59.293576: I tensorflow/core/grappler/devices.cc:66] Number of eligible GPUs (core count >= 8, compute capability >= 0.0): 0\n",
      "2022-06-14 13:27:59.293714: I tensorflow/core/grappler/clusters/single_machine.cc:358] Starting new session\n",
      "2022-06-14 13:27:59.317218: I tensorflow/core/grappler/optimizers/meta_optimizer.cc:1149] Optimization results for grappler item: graph_to_optimize\n",
      "  function_optimizer: Graph size after: 40 nodes (30), 51 edges (41), time = 2.277ms.\n",
      "  function_optimizer: function_optimizer did nothing. time = 0.056ms.\n",
      "\n",
      "WARNING:tensorflow:From /opt/conda/lib/python3.9/site-packages/tf2onnx/tf_loader.py:711: extract_sub_graph (from tensorflow.python.framework.graph_util_impl) is deprecated and will be removed in a future version.\n",
      "Instructions for updating:\n",
      "Use `tf.compat.v1.graph_util.extract_sub_graph`\n",
      "2022-06-14 13:27:59,372 - WARNING - From /opt/conda/lib/python3.9/site-packages/tf2onnx/tf_loader.py:711: extract_sub_graph (from tensorflow.python.framework.graph_util_impl) is deprecated and will be removed in a future version.\n",
      "Instructions for updating:\n",
      "Use `tf.compat.v1.graph_util.extract_sub_graph`\n",
      "2022-06-14 13:27:59.374607: I tensorflow/core/grappler/devices.cc:66] Number of eligible GPUs (core count >= 8, compute capability >= 0.0): 0\n",
      "2022-06-14 13:27:59.374738: I tensorflow/core/grappler/clusters/single_machine.cc:358] Starting new session\n",
      "2022-06-14 13:27:59.380122: I tensorflow/core/grappler/optimizers/meta_optimizer.cc:1149] Optimization results for grappler item: graph_to_optimize\n",
      "  constant_folding: Graph size after: 28 nodes (-12), 39 edges (-12), time = 2.391ms.\n",
      "  function_optimizer: function_optimizer did nothing. time = 0.021ms.\n",
      "  constant_folding: Graph size after: 28 nodes (0), 39 edges (0), time = 0.67ms.\n",
      "  function_optimizer: function_optimizer did nothing. time = 0.072ms.\n",
      "\n",
      "2022-06-14 13:27:59,395 - INFO - Using tensorflow=2.7.3, onnx=1.11.0, tf2onnx=1.11.1/1915fb\n",
      "2022-06-14 13:27:59,395 - INFO - Using opset <onnx, 13>\n",
      "2022-06-14 13:27:59,417 - INFO - Computed 0 values for constant folding\n",
      "2022-06-14 13:27:59,449 - INFO - Optimizing ONNX model\n",
      "2022-06-14 13:27:59,593 - INFO - After optimization: Cast -1 (1->0), Const +1 (7->8), Identity -6 (6->0), Reshape +1 (1->2), Transpose -7 (8->1)\n",
      "2022-06-14 13:27:59,594 - INFO - \n",
      "2022-06-14 13:27:59,594 - INFO - Successfully converted TensorFlow model /tmp/model/ to ONNX\n",
      "2022-06-14 13:27:59,594 - INFO - Model inputs: ['input-0']\n",
      "2022-06-14 13:27:59,595 - INFO - Model outputs: ['output']\n",
      "2022-06-14 13:27:59,595 - INFO - ONNX model is saved at /tmp/model.onnx\n"
     ]
    }
   ],
   "source": [
    "import tensorflow as tf\n",
    "tf.saved_model.save(model, \"/tmp/model/\")\n",
    "!python -m tf2onnx.convert --saved-model \"/tmp/model/\" --output \"/tmp/model.onnx\""
   ]
  },
  {
   "cell_type": "code",
   "execution_count": null,
   "id": "e95921c7-20cd-4b4e-8246-dd948157b88b",
   "metadata": {},
   "outputs": [],
   "source": []
  }
 ],
 "metadata": {
  "kernelspec": {
   "display_name": "Python 3 (ipykernel)",
   "language": "python",
   "name": "python3"
  },
  "language_info": {
   "codemirror_mode": {
    "name": "ipython",
    "version": 3
   },
   "file_extension": ".py",
   "mimetype": "text/x-python",
   "name": "python",
   "nbconvert_exporter": "python",
   "pygments_lexer": "ipython3",
   "version": "3.9.10"
  }
 },
 "nbformat": 4,
 "nbformat_minor": 5
}
